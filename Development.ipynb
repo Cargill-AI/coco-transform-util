{
 "cells": [
  {
   "cell_type": "code",
   "execution_count": null,
   "id": "558a1ed4",
   "metadata": {},
   "outputs": [],
   "source": [
    "!pip3 uninstall ctu -y"
   ]
  },
  {
   "cell_type": "code",
   "execution_count": null,
   "id": "4b12ed1b",
   "metadata": {},
   "outputs": [],
   "source": [
    "%cd /home/ec2-user/SageMaker/coco-transform-util/\n",
    "!python3 setup.py install > /dev/null"
   ]
  },
  {
   "cell_type": "code",
   "execution_count": null,
   "id": "fc7d9cfc",
   "metadata": {},
   "outputs": [],
   "source": [
    "## Importing relevant functions\n",
    "from ctu import (\n",
    "    sample_modif_step_di, get_modif_image, get_modif_coco_annotation, \n",
    "    accept_and_process_modif_di, ImgTransform, Visualize, create_mask\n",
    ")\n",
    "\n",
    "from ctu import (\n",
    "    WholeCoco2SingleImgCoco, Coco2CocoRel, CocoRel2CocoSpecificSize, AggreagateCoco\n",
    ")\n",
    "\n",
    "import ctu\n",
    "print('\\nPackage Version:', ctu.__version__)\n",
    "\n",
    "print('Success')"
   ]
  },
  {
   "cell_type": "code",
   "execution_count": null,
   "id": "9e13c386",
   "metadata": {},
   "outputs": [],
   "source": [
    "## Demo"
   ]
  },
  {
   "cell_type": "code",
   "execution_count": null,
   "id": "4f79ce55",
   "metadata": {
    "scrolled": false
   },
   "outputs": [],
   "source": [
    "from samples.example_highlevel_function import run\n",
    "\n",
    "anno_di = run()\n",
    "# anno_dis"
   ]
  },
  {
   "cell_type": "code",
   "execution_count": null,
   "id": "c75daede",
   "metadata": {},
   "outputs": [],
   "source": [
    "from ctu.cocout00_utils import ImgTransform, Visualize, create_mask"
   ]
  },
  {
   "cell_type": "code",
   "execution_count": null,
   "id": "4d4e72ba",
   "metadata": {},
   "outputs": [],
   "source": []
  },
  {
   "cell_type": "code",
   "execution_count": null,
   "id": "7f59e824",
   "metadata": {
    "scrolled": false
   },
   "outputs": [],
   "source": [
    "\n",
    "import cv2\n",
    "import glob\n",
    "import random\n",
    "from ctu import WholeCoco2SingleImgCoco, Coco2CocoRel, CocoRel2CocoSpecificSize\n",
    "from ctu import ImgTransform, Visualize\n",
    "\n",
    "\n",
    "\n",
    "## configs\n",
    "coco_path= 'example_data/coco-annotation.json'\n",
    "paths = [ f for f in glob.glob('example_data/*') if f.split('.')[-1] in ['jpeg', 'png', 'jpg'] ]\n",
    "\n",
    "## getting image address\n",
    "path = paths[random.randint(0,len(paths)-1)]\n",
    "img_name = path.split('/')[-1]\n",
    "\n",
    "\n",
    "wd_ht = (1000,1000)\n",
    "padding_htwd = (0.55,0.15)\n",
    "crop_rel_pt1_pt2 = ((0.5,0.0), (1.0,0.75))\n",
    "\n",
    "## reading the image & changing the size\n",
    "img = cv2.imread(path)\n",
    "img = cv2.resize(img, wd_ht, interpolation = cv2.INTER_AREA)\n",
    "img = ImgTransform.add_relative_padding_to_image(\n",
    "    img, rel_padding_ht_wd=padding_htwd, pad_color=(40,40,40))\n",
    "img = ImgTransform.relative_size_based_crop(\n",
    "    img, rel_pt1=crop_rel_pt1_pt2[0], rel_pt2=crop_rel_pt1_pt2[1])\n",
    "\n",
    "## annotaion for the same\n",
    "coco_ann_di = WholeCoco2SingleImgCoco( annotation_path=coco_path, coco_di=None).run(img_name)\n",
    "rel_coco_di = Coco2CocoRel().run( coco_ann_di, offset='orig_to_pad', rel_padding_ht_wd=padding_htwd, rel_crop_pt1_pt2=crop_rel_pt1_pt2 )\n",
    "# print(rel_coco_di['annotations'])\n",
    "\n",
    "\n",
    "final_ann_di = CocoRel2CocoSpecificSize().run(rel_coco_di, desired_ht_wd=img.shape[:2], \n",
    "                                              crop_oof=True, area_thresh_for_oof=0)\n",
    "\n",
    "# print([ k['area'] for i,k in enumerate(rel_coco_di['annotations']) ])\n",
    "\n",
    "## draw with annotation\n",
    "print('\\nRescaling image size + add padding to the image + cropping the imagee & maintaing the annotation')\n",
    "Visualize.draw_annotation(img, final_ann_di)"
   ]
  },
  {
   "cell_type": "code",
   "execution_count": null,
   "id": "2f6f582a",
   "metadata": {},
   "outputs": [],
   "source": []
  },
  {
   "cell_type": "code",
   "execution_count": null,
   "id": "c809f0e2",
   "metadata": {},
   "outputs": [],
   "source": [
    "## Updating the annotation field\n",
    "\n",
    "## Updating image shape in image field\n",
    "## providing image shape will crop out the annotation which is outsidee the frame + image width and height will aso be updated\n",
    "\n",
    "\n",
    "\n",
    "\n"
   ]
  },
  {
   "cell_type": "code",
   "execution_count": null,
   "id": "9c73b422",
   "metadata": {},
   "outputs": [],
   "source": []
  },
  {
   "cell_type": "code",
   "execution_count": null,
   "id": "a9b95e1e",
   "metadata": {},
   "outputs": [],
   "source": []
  },
  {
   "cell_type": "code",
   "execution_count": null,
   "id": "4850a49c",
   "metadata": {},
   "outputs": [],
   "source": []
  },
  {
   "cell_type": "code",
   "execution_count": null,
   "id": "50b5f13c",
   "metadata": {},
   "outputs": [],
   "source": [
    "\n",
    "\n",
    "def run():\n",
    "    \n",
    "    \n",
    "    \n",
    "if __name__=='__main__':\n",
    "    run()\n"
   ]
  }
 ],
 "metadata": {
  "kernelspec": {
   "display_name": "conda_tensorflow2_p36",
   "language": "python",
   "name": "conda_tensorflow2_p36"
  },
  "language_info": {
   "codemirror_mode": {
    "name": "ipython",
    "version": 3
   },
   "file_extension": ".py",
   "mimetype": "text/x-python",
   "name": "python",
   "nbconvert_exporter": "python",
   "pygments_lexer": "ipython3",
   "version": "3.6.13"
  }
 },
 "nbformat": 4,
 "nbformat_minor": 5
}
