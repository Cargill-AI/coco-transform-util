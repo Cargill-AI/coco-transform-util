{
 "cells": [
  {
   "cell_type": "markdown",
   "id": "1fcffadc",
   "metadata": {},
   "source": [
    "## Installing Package"
   ]
  },
  {
   "cell_type": "code",
   "execution_count": null,
   "id": "c9c00b25",
   "metadata": {},
   "outputs": [],
   "source": [
    "!pip3 uninstall ctu -y"
   ]
  },
  {
   "cell_type": "code",
   "execution_count": null,
   "id": "5f4e4008",
   "metadata": {
    "scrolled": true
   },
   "outputs": [],
   "source": [
    "%cd /home/ec2-user/SageMaker/coco-transform-util/\n",
    "!python3 setup.py install > /dev/null"
   ]
  },
  {
   "cell_type": "code",
   "execution_count": null,
   "id": "932f767d",
   "metadata": {},
   "outputs": [],
   "source": [
    "## Importing relevant functions\n",
    "from ctu import WholeCoco2SingleImgCoco, Coco2CocoRel, CocoRel2CocoSpecificSize\n",
    "from ctu import (\n",
    "    sample_modif_step_di, accept_and_process_modif_di, get_modif_image, \n",
    "    get_modif_coco_annotation, show_img_with_annotation, add_relative_padding_to_image\n",
    ")\n",
    "\n",
    "import ctu\n",
    "print('\\nPackage Version:', ctu.__version__)\n",
    "\n",
    "print('Success')"
   ]
  },
  {
   "cell_type": "markdown",
   "id": "749e7c67",
   "metadata": {},
   "source": [
    "## Example: Using Transformation Dictionary"
   ]
  },
  {
   "cell_type": "code",
   "execution_count": null,
   "id": "774805ea",
   "metadata": {
    "scrolled": false
   },
   "outputs": [],
   "source": [
    "try:\n",
    "    from samples.example_highlevel_function import run\n",
    "except:\n",
    "    from example_highlevel_function import run\n",
    "\n",
    "run()\n"
   ]
  },
  {
   "cell_type": "markdown",
   "id": "8da15035",
   "metadata": {},
   "source": [
    "## Example: Using the Core Modules "
   ]
  },
  {
   "cell_type": "code",
   "execution_count": null,
   "id": "e27eddd3",
   "metadata": {
    "scrolled": false
   },
   "outputs": [],
   "source": [
    "try:\n",
    "    from samples.example_core_modules import run\n",
    "except:\n",
    "    from example_core_modules import run\n",
    "\n",
    "run()"
   ]
  },
  {
   "cell_type": "code",
   "execution_count": null,
   "id": "63e596f9",
   "metadata": {},
   "outputs": [],
   "source": []
  }
 ],
 "metadata": {
  "kernelspec": {
   "display_name": "conda_tensorflow2_p36",
   "language": "python",
   "name": "conda_tensorflow2_p36"
  },
  "language_info": {
   "codemirror_mode": {
    "name": "ipython",
    "version": 3
   },
   "file_extension": ".py",
   "mimetype": "text/x-python",
   "name": "python",
   "nbconvert_exporter": "python",
   "pygments_lexer": "ipython3",
   "version": "3.6.13"
  }
 },
 "nbformat": 4,
 "nbformat_minor": 5
}
