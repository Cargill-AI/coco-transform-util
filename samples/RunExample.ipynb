{
 "cells": [
  {
   "cell_type": "markdown",
   "id": "5e8686e2",
   "metadata": {},
   "source": [
    "https://cdl-docs.atlassian.net/wiki/spaces/AB/pages/402980877/COCO+and+Pascal+VOC+data+annotations"
   ]
  },
  {
   "cell_type": "markdown",
   "id": "509469ed",
   "metadata": {},
   "source": [
    "## Sample Coco Annotation Format  \n",
    "  \n",
    "[source](https://roboflow.com/formats/coco-json)  \n",
    "  \n",
    "```python\n",
    "{\n",
    "    \"info\": {\n",
    "        \"year\": \"2020\",\n",
    "        \"version\": \"1\",\n",
    "        \"description\": \"Exported from roboflow.ai\",\n",
    "        \"contributor\": \"Roboflow\",\n",
    "        \"url\": \"https://app.roboflow.ai/datasets/hard-hat-sample/1\",\n",
    "        \"date_created\": \"2000-01-01T00:00:00+00:00\"\n",
    "    },\n",
    "    \"licenses\": [\n",
    "        {\n",
    "            \"id\": 1,\n",
    "            \"url\": \"https://creativecommons.org/publicdomain/zero/1.0/\",\n",
    "            \"name\": \"Public Domain\"\n",
    "        }\n",
    "    ],\n",
    "    \"categories\": [\n",
    "        {\n",
    "            \"id\": 0,\n",
    "            \"name\": \"Workers\",\n",
    "            \"supercategory\": \"none\"\n",
    "        },\n",
    "        {\n",
    "            \"id\": 1,\n",
    "            \"name\": \"head\",\n",
    "            \"supercategory\": \"Workers\"\n",
    "        },\n",
    "        {\n",
    "            \"id\": 2,\n",
    "            \"name\": \"helmet\",\n",
    "            \"supercategory\": \"Workers\"\n",
    "        },\n",
    "        {\n",
    "            \"id\": 3,\n",
    "            \"name\": \"person\",\n",
    "            \"supercategory\": \"Workers\"\n",
    "        }\n",
    "    ],\n",
    "    \"images\": [\n",
    "        {\n",
    "            \"id\": 0,\n",
    "            \"license\": 1,\n",
    "            \"file_name\": \"0001.jpg\",\n",
    "            \"height\": 275,\n",
    "            \"width\": 490,\n",
    "            \"date_captured\": \"2020-07-20T19:39:26+00:00\"\n",
    "        }\n",
    "    ],\n",
    "    \"annotations\": [\n",
    "        {\n",
    "            \"id\": 0,\n",
    "            \"image_id\": 0,\n",
    "            \"category_id\": 2,\n",
    "            \"bbox\": [ 45, 2, 85, 85 ],\n",
    "            \"area\": 7225,\n",
    "            \"segmentation\": [],\n",
    "            \"iscrowd\": 0\n",
    "        },\n",
    "        {\n",
    "            \"id\": 1,\n",
    "            \"image_id\": 0,\n",
    "            \"category_id\": 2,\n",
    "            \"bbox\": [ 324, 29, 72, 81 ],\n",
    "            \"area\": 5832,\n",
    "            \"segmentation\": [],\n",
    "            \"iscrowd\": 0\n",
    "        }\n",
    "    ]\n",
    "}\n",
    "```"
   ]
  },
  {
   "cell_type": "markdown",
   "id": "fb38c650",
   "metadata": {},
   "source": [
    "## Installing Package"
   ]
  },
  {
   "cell_type": "code",
   "execution_count": null,
   "id": "f364a247",
   "metadata": {},
   "outputs": [],
   "source": [
    "!pip3 uninstall ctu -y"
   ]
  },
  {
   "cell_type": "code",
   "execution_count": null,
   "id": "53221e20",
   "metadata": {
    "scrolled": true
   },
   "outputs": [],
   "source": [
    "%cd /home/ec2-user/SageMaker/coco-transform-util/\n",
    "!python3 setup.py install > /dev/null"
   ]
  },
  {
   "cell_type": "code",
   "execution_count": null,
   "id": "7722e19a",
   "metadata": {},
   "outputs": [],
   "source": [
    "## Importing relevant functions\n",
    "from ctu import (\n",
    "    sample_modif_step_di, get_modif_image, get_modif_coco_annotation, \n",
    "    accept_and_process_modif_di, ImgTransform, Visualize\n",
    ")\n",
    "\n",
    "from ctu import (\n",
    "    WholeCoco2SingleImgCoco, Coco2CocoRel, CocoRel2CocoSpecificSize\n",
    ")\n",
    "\n",
    "import ctu\n",
    "print('\\nPackage Version:', ctu.__version__)\n",
    "\n",
    "print('Success')"
   ]
  },
  {
   "cell_type": "markdown",
   "id": "63a7b67e",
   "metadata": {},
   "source": [
    "## Example: Using Transformation Dictionary"
   ]
  },
  {
   "cell_type": "code",
   "execution_count": null,
   "id": "61afcfd4",
   "metadata": {},
   "outputs": [],
   "source": [
    "\n",
    "try:\n",
    "    from samples.example_highlevel_function import run\n",
    "except:\n",
    "    from example_highlevel_function import run\n",
    "\n",
    "# run()\n"
   ]
  },
  {
   "cell_type": "markdown",
   "id": "f69065eb",
   "metadata": {},
   "source": [
    "## Example: Using the Core Modules "
   ]
  },
  {
   "cell_type": "code",
   "execution_count": null,
   "id": "42c1f02a",
   "metadata": {},
   "outputs": [],
   "source": [
    "try:\n",
    "    from samples.example_core_modules import run\n",
    "except:\n",
    "    from example_core_modules import run\n",
    "\n",
    "run()"
   ]
  },
  {
   "cell_type": "code",
   "execution_count": null,
   "id": "733a12b3",
   "metadata": {},
   "outputs": [],
   "source": []
  }
 ],
 "metadata": {
  "kernelspec": {
   "display_name": "conda_tensorflow2_p36",
   "language": "python",
   "name": "conda_tensorflow2_p36"
  },
  "language_info": {
   "codemirror_mode": {
    "name": "ipython",
    "version": 3
   },
   "file_extension": ".py",
   "mimetype": "text/x-python",
   "name": "python",
   "nbconvert_exporter": "python",
   "pygments_lexer": "ipython3",
   "version": "3.6.13"
  }
 },
 "nbformat": 4,
 "nbformat_minor": 5
}
